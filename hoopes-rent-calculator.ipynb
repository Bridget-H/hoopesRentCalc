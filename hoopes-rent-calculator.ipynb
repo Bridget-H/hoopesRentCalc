{
 "cells": [
  {
   "cell_type": "code",
   "execution_count": 48,
   "id": "0eb669c5",
   "metadata": {},
   "outputs": [
    {
     "name": "stdout",
     "output_type": "stream",
     "text": [
      "money in: 1000\n",
      "percentage of equidty gained every month: 0.2777777777777778\n",
      "money out: 1056.862\n",
      "cash flow: -56.86200000000008\n",
      "roi: -0.0013868780487804897\n"
     ]
    }
   ],
   "source": [
    "class Rent_calc():\n",
    "    def __init__(self, baserent, sewage, waste, mortgage, property_tax, water, lawn_snow, vacancy, repairs, capital_expenditures, downpayment, closingcosts, petrent = 0):\n",
    "        #money in\n",
    "        self.baserent = baserent\n",
    "        self.petrent = petrent\n",
    "        self.sewage = sewage #20\n",
    "        self.waste = waste #$17\n",
    "        self.mortgage = mortgage #867.42 includes insurance\n",
    "        self.property_tax = property_tax #67\n",
    "        self.water = water #30\n",
    "        self.lawn_snow = lawn_snow #5\n",
    "        self.vacancy = vacancy #100\n",
    "        self.repairs = repairs #100\n",
    "        self.capital_expenditures = capital_expenditures #250\n",
    "        self.downpayment = downpayment #31,000\n",
    "        self.closingcosts = closingcosts #10,000\n",
    "        \n",
    "\n",
    "        \n",
    "    def moneyin(self):\n",
    "        x = self.baserent+self.petrent\n",
    "        print(f'money in: {x}')\n",
    "        w = (100*(856 /(856*12*30)))\n",
    "        print(f'percentage of equidty gained every month: {w}')\n",
    "    def moneyout(self):\n",
    "        y = self.sewage + self.waste + self.mortgage + self.property_tax + self.water + self.lawn_snow + self.vacancy + self.repairs + self.capital_expenditures\n",
    "        print(f'money out: {y}')\n",
    "    def cashflow(self):\n",
    "        z = (self.baserent+self.petrent)-(self.sewage + self.waste + self.mortgage + self.property_tax + self.water + self.lawn_snow + self.vacancy + self.repairs + self.capital_expenditures)\n",
    "        print(f'cash flow: {z}')\n",
    "    def cashoncashroi(self):\n",
    "        q = ((self.baserent+self.petrent)-(self.sewage + self.waste + self.mortgage + self.property_tax + self.water + self.lawn_snow + self.vacancy + self.repairs + self.capital_expenditures)) /(self.downpayment + self.closingcosts) \n",
    "        print(f'roi: {q}')\n",
    "        \n",
    "tenant1 = Rent_calc(1000,20,17,467.862,67,30,5,100,100,250,31000,10000,0)\n",
    "        \n",
    "    \n",
    "\n",
    "\n",
    "tenant1.moneyin()\n",
    "tenant1.moneyout()\n",
    "tenant1.cashflow()\n",
    "tenant1.cashoncashroi()\n",
    "            "
   ]
  },
  {
   "cell_type": "code",
   "execution_count": null,
   "id": "243bae90",
   "metadata": {},
   "outputs": [],
   "source": []
  }
 ],
 "metadata": {
  "kernelspec": {
   "display_name": "Python 3",
   "language": "python",
   "name": "python3"
  },
  "language_info": {
   "codemirror_mode": {
    "name": "ipython",
    "version": 3
   },
   "file_extension": ".py",
   "mimetype": "text/x-python",
   "name": "python",
   "nbconvert_exporter": "python",
   "pygments_lexer": "ipython3",
   "version": "3.8.8"
  }
 },
 "nbformat": 4,
 "nbformat_minor": 5
}
